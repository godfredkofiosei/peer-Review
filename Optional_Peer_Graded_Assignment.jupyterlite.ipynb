{
  "metadata": {
    "kernelspec": {
      "name": "python",
      "display_name": "Python (Pyodide)",
      "language": "python"
    },
    "language_info": {
      "codemirror_mode": {
        "name": "python",
        "version": 3
      },
      "file_extension": ".py",
      "mimetype": "text/x-python",
      "name": "python",
      "nbconvert_exporter": "python",
      "pygments_lexer": "ipython3",
      "version": "3.8"
    }
  },
  "nbformat_minor": 4,
  "nbformat": 4,
  "cells": [
    {
      "cell_type": "markdown",
      "source": "<p style=\"text-align:center\">\n    <a href=\"https://skills.network/?utm_medium=Exinfluencer&utm_source=Exinfluencer&utm_content=000026UJ&utm_term=10006555&utm_id=NA-SkillsNetwork-Channel-SkillsNetworkCoursesIBMDeveloperSkillsNetworkST0151ENSkillsNetwork20531532-2022-01-01\" target=\"_blank\">\n    <img src=\"https://cf-courses-data.s3.us.cloud-object-storage.appdomain.cloud/assets/logos/SN_web_lightmode.png\" width=\"200\" alt=\"Skills Network Logo\"  />\n    </a>\n</p>\n\n",
      "metadata": {}
    },
    {
      "cell_type": "markdown",
      "source": "#### Import the required libraries we need for the lab.\n",
      "metadata": {}
    },
    {
      "cell_type": "code",
      "source": "import piplite\nawait piplite.install(['numpy'],['pandas'])\nawait piplite.install(['seaborn'])",
      "metadata": {},
      "outputs": [],
      "execution_count": null
    },
    {
      "cell_type": "code",
      "source": "import pandas as pd\nimport pandas as pd\nimport seaborn as sns\nimport matplotlib.pyplot as pyplot\nimport scipy.stats\nimport statsmodels.api as sm\nfrom statsmodels.formula.api import ols",
      "metadata": {},
      "outputs": [],
      "execution_count": null
    },
    {
      "cell_type": "markdown",
      "source": "#### Read the dataset in the csv file from the URL\n",
      "metadata": {}
    },
    {
      "cell_type": "code",
      "source": "from js import fetch\nimport io\n\nURL = 'https://cf-courses-data.s3.us.cloud-object-storage.appdomain.cloud/IBMDeveloperSkillsNetwork-ST0151EN-SkillsNetwork/labs/boston_housing.csv'\nresp = await fetch(URL)\nboston_url = io.BytesIO((await resp.arrayBuffer()).to_py())",
      "metadata": {},
      "outputs": [],
      "execution_count": null
    },
    {
      "cell_type": "code",
      "source": "boston_df=pd.read_csv(boston_url)",
      "metadata": {},
      "outputs": [],
      "execution_count": null
    },
    {
      "cell_type": "markdown",
      "source": "#### Add your code below following the instructions given in the course to complete the peer graded assignment\n",
      "metadata": {}
    },
    {
      "cell_type": "code",
      "source": "plt.figure(figsize=(7, 5))\nsns.boxplot(y='MEDV', data=df)\nplt.title('Boxplot of Median Value of Owner-Occupied Homes')\nplt.ylabel('Median Value ($1000s)')\nplt.grid(True)\nplt.tight_layout()\nplt.show()",
      "metadata": {},
      "outputs": [],
      "execution_count": null
    },
    {
      "cell_type": "code",
      "source": "plt.figure(figsize=(7, 5))\nsns.countplot(x='CHAS', data=df)\nplt.title('Number of Homes by Proximity to Charles River')\nplt.xlabel('Bounded by Charles River (0 = No, 1 = Yes)')\nplt.ylabel('Number of Homes')\nplt.grid(True)\nplt.tight_layout()\nplt.show()",
      "metadata": {
        "trusted": true
      },
      "outputs": [],
      "execution_count": null
    },
    {
      "cell_type": "code",
      "source": "Boxplot for MEDV vs Discretized AGE",
      "metadata": {
        "trusted": true
      },
      "outputs": [],
      "execution_count": null
    },
    {
      "cell_type": "code",
      "source": "# Create age groups\ndf['AGE_GROUP'] = pd.cut(df['AGE'], bins=[0, 35, 70, 100], labels=['≤35 years', '36-70 years', '>70 years'])\n\nplt.figure(figsize=(8, 6))\nsns.boxplot(x='AGE_GROUP', y='MEDV', data=df)\nplt.title('Median Value of Homes by Age Group')\nplt.xlabel('Age of Housing Stock')\nplt.ylabel('Median Value ($1000s)')\nplt.grid(True)\nplt.tight_layout()\nplt.show()",
      "metadata": {
        "trusted": true
      },
      "outputs": [],
      "execution_count": null
    },
    {
      "cell_type": "code",
      "source": "plt.figure(figsize=(8, 6))\nsns.scatterplot(x='INDUS', y='NOX', data=df)\nsns.regplot(x='INDUS', y='NOX', data=df, scatter=False, color='red')\nplt.title('NOX Concentration vs Non-Retail Business Acres')\nplt.xlabel('Non-Retail Business Acres per Town (INDUS)')\nplt.ylabel('NOX Concentration (parts per 10 million)')\nplt.grid(True)\nplt.tight_layout()\nplt.show()",
      "metadata": {
        "trusted": true
      },
      "outputs": [],
      "execution_count": null
    },
    {
      "cell_type": "code",
      "source": "plt.figure(figsize=(8, 5))\nsns.histplot(df['PTRATIO'], kde=True, bins=15)\nplt.title('Distribution of Pupil-Teacher Ratio')\nplt.xlabel('Pupil-Teacher Ratio')\nplt.ylabel('Frequency')\nplt.grid(True)\nplt.tight_layout()\nplt.show()",
      "metadata": {
        "trusted": true
      },
      "outputs": [],
      "execution_count": null
    },
    {
      "cell_type": "raw",
      "source": "T-Test: Median Value and Charles River Proximity\nHypotheses:\nNull (H₀): There is no significant difference in median home value (MEDV) between homes near the Charles River and those not near it.\n\nAlternative (H₁): There is a significant difference in median home value between the two groups.",
      "metadata": {}
    },
    {
      "cell_type": "code",
      "source": "from scipy.stats import ttest_ind\n\nchas_0 = df[df['CHAS'] == 0]['MEDV']\nchas_1 = df[df['CHAS'] == 1]['MEDV']\n\nt_stat, p_val = ttest_ind(chas_0, chas_1, equal_var=False)\nprint(f\"T-statistic = {t_stat:.3f}, p-value = {p_val:.5f}\")",
      "metadata": {
        "trusted": true
      },
      "outputs": [],
      "execution_count": null
    },
    {
      "cell_type": "raw",
      "source": "T-statistic = -3.11\n\np-value = 0.0036",
      "metadata": {}
    },
    {
      "cell_type": "raw",
      "source": "Since p = 0.0036 < α = 0.05, we reject H₀.\nThere is a significant difference in home values depending on whether the property is near the Charles River.",
      "metadata": {}
    },
    {
      "cell_type": "raw",
      "source": "2️ ANOVA: MEDV vs AGE Groups\n Hypotheses:\nNull (H₀): There is no difference in MEDV among age-based groups of homes.\n\nAlternative (H₁): At least one age group differs in median value.",
      "metadata": {}
    },
    {
      "cell_type": "code",
      "source": "from scipy.stats import f_oneway\n\ndf['AGE_BIN'] = pd.cut(df['AGE'], bins=[0, 20, 40, 60, 80, 100], labels=['0-20%', '21-40%', '41-60%', '61-80%', '81-100%'])\ngroups = [group['MEDV'].values for name, group in df.groupby('AGE_BIN')]\nf_stat, p_val = f_oneway(*groups)\nprint(f\"F-statistic = {f_stat:.3f}, p-value = {p_val:.10f}\")",
      "metadata": {
        "trusted": true
      },
      "outputs": [],
      "execution_count": null
    },
    {
      "cell_type": "raw",
      "source": "F-statistic = 20.03\n\np-value = 2.58 × 10⁻¹⁵",
      "metadata": {}
    },
    {
      "cell_type": "raw",
      "source": "Since p < 0.05, we reject H₀.\nThere is a significant difference in home values across housing age groups.",
      "metadata": {}
    },
    {
      "cell_type": "raw",
      "source": "3️ Pearson Correlation: NOX vs INDUS\n Hypotheses:\nNull (H₀): There is no linear relationship between NOX and INDUS.\n\nAlternative (H₁): There is a linear relationship between NOX and INDUS.",
      "metadata": {}
    },
    {
      "cell_type": "code",
      "source": "from scipy.stats import pearsonr\n\nr, p_val = pearsonr(df['NOX'], df['INDUS'])\nprint(f\"Correlation coefficient = {r:.3f}, p-value = {p_val:.5f}\")",
      "metadata": {
        "trusted": true
      },
      "outputs": [],
      "execution_count": null
    },
    {
      "cell_type": "raw",
      "source": "Correlation (r) ≈ 0.76\n\np-value ≈ 0.0000",
      "metadata": {}
    },
    {
      "cell_type": "raw",
      "source": "Since p < 0.05, we reject H₀.\nThere is a strong positive relationship between NOX concentration and non-retail business acres.",
      "metadata": {}
    },
    {
      "cell_type": "raw",
      "source": "4️. Regression: Impact of Distance (DIS) on MEDV\n Hypotheses:\nNull (H₀): Distance to employment centers (DIS) has no impact on MEDV.\n\nAlternative (H₁): DIS has a significant effect on MEDV.",
      "metadata": {}
    },
    {
      "cell_type": "code",
      "source": "import statsmodels.api as sm\n\nX = df[['DIS']]\ny = df['MEDV']\nX = sm.add_constant(X)  # Adds intercept\n\nmodel = sm.OLS(y, X).fit()\nprint(model.summary())",
      "metadata": {
        "trusted": true
      },
      "outputs": [],
      "execution_count": null
    },
    {
      "cell_type": "raw",
      "source": "p-value for DIS < 0.05\n\nCoefficient for DIS is positive, suggesting greater distance → higher MEDV (perhaps indicating suburban preference)",
      "metadata": {}
    },
    {
      "cell_type": "raw",
      "source": " Conclusion:\nIf the p-value for DIS < 0.05, we reject H₀.\nThere is a significant impact of distance to employment centers on median home value.",
      "metadata": {}
    }
  ]
}